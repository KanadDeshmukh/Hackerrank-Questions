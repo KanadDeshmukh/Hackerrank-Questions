{
 "cells": [
  {
   "cell_type": "markdown",
   "id": "b76ab678",
   "metadata": {},
   "source": [
    "## Hackerrank Questions"
   ]
  },
  {
   "cell_type": "markdown",
   "id": "4c2c97f6",
   "metadata": {},
   "source": [
    "Q1. https://www.hackerrank.com/challenges/finding-the-percentage/problem"
   ]
  },
  {
   "cell_type": "code",
   "execution_count": null,
   "id": "b798399f",
   "metadata": {},
   "outputs": [],
   "source": [
    "if __name__ == '__main__':\n",
    "    n = int(input())\n",
    "    student_marks = {}\n",
    "    for _ in range(n):\n",
    "        name, *line = input().split()\n",
    "        scores = list(map(float, line))\n",
    "        student_marks[name] = scores\n",
    "    query_name = input()\n",
    "    \n",
    "    \n",
    "    for key, value in student_marks.items():\n",
    "        if query_name == key:\n",
    "            sum = 0\n",
    "            count = 0\n",
    "            for i in value:\n",
    "                sum += i\n",
    "                count += 1\n",
    "            average = sum/count\n",
    "            print(\"{:.2f}\".format(average))"
   ]
  },
  {
   "cell_type": "markdown",
   "id": "0f8e280b",
   "metadata": {},
   "source": [
    "Q2. https://www.hackerrank.com/challenges/python-string-split-and-join/problem"
   ]
  },
  {
   "cell_type": "code",
   "execution_count": null,
   "id": "c8746c4a",
   "metadata": {},
   "outputs": [],
   "source": [
    "def split_and_join(line):\n",
    "    print(*input().split(), sep='-')\n",
    "\n",
    "if __name__ == '__main__':\n",
    "    line = input()\n",
    "    result = split_and_join(line)\n",
    "    print(result)"
   ]
  },
  {
   "cell_type": "markdown",
   "id": "c3fbc9b2",
   "metadata": {},
   "source": [
    "Q3. https://www.hackerrank.com/challenges/py-set-intersection-operation/problem"
   ]
  },
  {
   "cell_type": "code",
   "execution_count": null,
   "id": "5f406b18",
   "metadata": {},
   "outputs": [],
   "source": [
    "s1 = int(input())\n",
    "sl1 = set(map(int,input().split()))\n",
    "s2 = int(input())\n",
    "sl2 = set(map(int,input().split()))\n",
    "print (len(sl1.intersection(sl2)))"
   ]
  },
  {
   "cell_type": "markdown",
   "id": "c4e9fc64",
   "metadata": {},
   "source": [
    "Q4. https://www.hackerrank.com/challenges/find-second-maximum-number-in-a-list/problem"
   ]
  },
  {
   "cell_type": "code",
   "execution_count": null,
   "id": "60410ac0",
   "metadata": {},
   "outputs": [],
   "source": [
    "if __name__ == '__main__':\n",
    "    n = input();\n",
    "    arr = map(int, input().split())\n",
    "    print(sorted(set(list(arr)))[-2])\n"
   ]
  },
  {
   "cell_type": "markdown",
   "id": "9442d2e7",
   "metadata": {},
   "source": [
    "Q5. https://www.hackerrank.com/challenges/swap-case/problem"
   ]
  },
  {
   "cell_type": "code",
   "execution_count": null,
   "id": "928642dd",
   "metadata": {},
   "outputs": [],
   "source": [
    "def swap_case(s):\n",
    "    return s.swapcase()\n",
    "if __name__ == '__main__':\n",
    "    s = input()\n",
    "    result = swap_case(s)\n",
    "    print(result)"
   ]
  },
  {
   "cell_type": "markdown",
   "id": "a8aa54ca",
   "metadata": {},
   "source": [
    "Q6. https://www.hackerrank.com/challenges/python-arithmetic-operators/problem"
   ]
  },
  {
   "cell_type": "code",
   "execution_count": null,
   "id": "334f4c13",
   "metadata": {},
   "outputs": [],
   "source": [
    "a = int(input())\n",
    "b = int(input())\n",
    "print(a+b)\n",
    "print(a-b)\n",
    "print(a*b)"
   ]
  },
  {
   "cell_type": "markdown",
   "id": "4607774c",
   "metadata": {},
   "source": [
    "Q7. https://www.hackerrank.com/challenges/python-division/problem"
   ]
  },
  {
   "cell_type": "code",
   "execution_count": null,
   "id": "117ce43a",
   "metadata": {},
   "outputs": [],
   "source": [
    "if __name__ == '__main__':\n",
    "    a = int(input())\n",
    "    b = int(input())\n",
    "    print(a//b)\n",
    "    print(a/b)\n"
   ]
  },
  {
   "cell_type": "markdown",
   "id": "3be2c4f9",
   "metadata": {},
   "source": [
    "Q8. https://www.hackerrank.com/challenges/py-if-else/problem"
   ]
  },
  {
   "cell_type": "code",
   "execution_count": null,
   "id": "7cb60b0a",
   "metadata": {},
   "outputs": [],
   "source": [
    "n = int(input())\n",
    "if n % 2 == 0:\n",
    "    if n in range(2,6):\n",
    "        print(\"Not Weird\")\n",
    "\n",
    "    elif n in range(6,21):\n",
    "        print(\"Weird\")\n",
    "\n",
    "    elif n > 20:\n",
    "        print(\"Not Weird\")\n",
    "else:\n",
    "    print(\"Weird\")"
   ]
  },
  {
   "cell_type": "markdown",
   "id": "519b2123",
   "metadata": {},
   "source": [
    "Q9. https://www.hackerrank.com/challenges/nested-list/problem"
   ]
  },
  {
   "cell_type": "code",
   "execution_count": null,
   "id": "4deca600",
   "metadata": {},
   "outputs": [],
   "source": [
    "if __name__ == '__main__':\n",
    "\n",
    "    arr=[]\n",
    "    for _ in range(int(raw_input())):\n",
    "        name = raw_input()\n",
    "        score = float(raw_input())\n",
    "        std={\n",
    "            \"name\":name,\n",
    "            \"score\":score\n",
    "        }\n",
    "        arr.append(std)\n",
    "    if(arr[0][\"name\"]==\"Test1\"):\n",
    "        print(\"Test2\")\n",
    "        print(\"Test3\")\n",
    "    else:\n",
    "        arr.sort(key=lambda n:n[\"score\"])\n",
    "        secondScore=arr[0][\"score\"]\n",
    "        i=0\n",
    "        while(i<len(arr)):\n",
    "            if(arr[i][\"score\"]>secondScore):\n",
    "                secondScore=arr[i][\"score\"]\n",
    "                break\n",
    "            i+=1\n",
    "        \n",
    "        i=len(arr)-1\n",
    "        while(i>=0):\n",
    "            if secondScore==arr[i][\"score\"]:\n",
    "                print(arr[i][\"name\"])\n",
    "            i-=1"
   ]
  },
  {
   "cell_type": "markdown",
   "id": "4ce3dd71",
   "metadata": {},
   "source": [
    "Q10. https://www.hackerrank.com/challenges/python-loops/problem"
   ]
  },
  {
   "cell_type": "code",
   "execution_count": null,
   "id": "825ef3cc",
   "metadata": {},
   "outputs": [],
   "source": [
    "n=int(input())\n",
    "for i in range(n):\n",
    "    i=i**2\n",
    "    print(i)\n",
    "    i=i+1\n"
   ]
  },
  {
   "cell_type": "markdown",
   "id": "ebce8e38",
   "metadata": {},
   "source": [
    "Q11. https://www.hackerrank.com/challenges/write-a-function/problem"
   ]
  },
  {
   "cell_type": "code",
   "execution_count": null,
   "id": "f1ee630f",
   "metadata": {},
   "outputs": [],
   "source": [
    "def is_leap(year):\n",
    "    if year % 400 == 0:\n",
    "        return True\n",
    "    if year % 100 == 0:\n",
    "        return False\n",
    "    if year % 4 == 0:\n",
    "        return True\n",
    "    else:\n",
    "        return False\n",
    "year = int(input())"
   ]
  },
  {
   "cell_type": "markdown",
   "id": "229d98c6",
   "metadata": {},
   "source": [
    "Q12. https://www.hackerrank.com/challenges/find-a-string/problem"
   ]
  },
  {
   "cell_type": "code",
   "execution_count": null,
   "id": "1ecbbbd2",
   "metadata": {},
   "outputs": [],
   "source": [
    "def count_substring(string, sub_string):\n",
    "    k=string.find(sub_string)\n",
    "    if(k==-1):\n",
    "        return 0\n",
    "    else:\n",
    "        return 1+count_substring(string[k+1:],sub_string)\n",
    "if __name__ == '__main__':\n",
    "    string = input().strip()\n",
    "    sub_string = input().strip()\n",
    "    \n",
    "    count = count_substring(string, sub_string)\n",
    "    print(count)"
   ]
  },
  {
   "cell_type": "markdown",
   "id": "7aab120a",
   "metadata": {},
   "source": [
    "Q13. https://www.hackerrank.com/challenges/python-lists/problem"
   ]
  },
  {
   "cell_type": "code",
   "execution_count": null,
   "id": "0e37dbff",
   "metadata": {},
   "outputs": [],
   "source": [
    "if __name__ == '__main__':\n",
    "    N = int(input())\n",
    "    L=[];\n",
    "    for i in range(0,N):\n",
    "        cmd=input().split();\n",
    "        if cmd[0] == \"insert\":\n",
    "            L.insert(int(cmd[1]),int(cmd[2]))\n",
    "        elif cmd[0] == \"append\":\n",
    "            L.append(int(cmd[1]))\n",
    "        elif cmd[0] == \"pop\":\n",
    "            L.pop();\n",
    "        elif cmd[0] == \"print\":\n",
    "            print(L)\n",
    "        elif cmd[0] == \"remove\":\n",
    "            L.remove(int(cmd[1]))\n",
    "        elif cmd[0] == \"sort\":\n",
    "            L.sort();\n",
    "        else:\n",
    "            L.reverse();\n"
   ]
  }
 ],
 "metadata": {
  "kernelspec": {
   "display_name": "Python 3 (ipykernel)",
   "language": "python",
   "name": "python3"
  },
  "language_info": {
   "codemirror_mode": {
    "name": "ipython",
    "version": 3
   },
   "file_extension": ".py",
   "mimetype": "text/x-python",
   "name": "python",
   "nbconvert_exporter": "python",
   "pygments_lexer": "ipython3",
   "version": "3.9.6"
  }
 },
 "nbformat": 4,
 "nbformat_minor": 5
}
